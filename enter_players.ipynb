{
 "cells": [
  {
   "cell_type": "code",
   "execution_count": 1,
   "id": "0e350e6c",
   "metadata": {},
   "outputs": [],
   "source": [
    "import pandas as pd\n",
    "import numpy as np\n",
    "import matplotlib.pyplot as plt\n",
    "\n"
   ]
  },
  {
   "cell_type": "code",
   "execution_count": 43,
   "id": "d9cbbf95",
   "metadata": {},
   "outputs": [
    {
     "data": {
      "text/html": [
       "<div>\n",
       "<style scoped>\n",
       "    .dataframe tbody tr th:only-of-type {\n",
       "        vertical-align: middle;\n",
       "    }\n",
       "\n",
       "    .dataframe tbody tr th {\n",
       "        vertical-align: top;\n",
       "    }\n",
       "\n",
       "    .dataframe thead th {\n",
       "        text-align: right;\n",
       "    }\n",
       "</style>\n",
       "<table border=\"1\" class=\"dataframe\">\n",
       "  <thead>\n",
       "    <tr style=\"text-align: right;\">\n",
       "      <th></th>\n",
       "      <th>name</th>\n",
       "      <th>ranking</th>\n",
       "      <th>position</th>\n",
       "    </tr>\n",
       "  </thead>\n",
       "  <tbody>\n",
       "    <tr>\n",
       "      <th>0</th>\n",
       "      <td>Jonathan Taylor</td>\n",
       "      <td>1</td>\n",
       "      <td>RB</td>\n",
       "    </tr>\n",
       "    <tr>\n",
       "      <th>1</th>\n",
       "      <td>Christian McCaffrey</td>\n",
       "      <td>2</td>\n",
       "      <td>RB</td>\n",
       "    </tr>\n",
       "  </tbody>\n",
       "</table>\n",
       "</div>"
      ],
      "text/plain": [
       "                  name  ranking position\n",
       "0      Jonathan Taylor        1       RB\n",
       "1  Christian McCaffrey        2       RB"
      ]
     },
     "execution_count": 43,
     "metadata": {},
     "output_type": "execute_result"
    }
   ],
   "source": [
    "df = pd.DataFrame({'name':['Jonathan Taylor',\n",
    "         'Christian McCaffrey'\n",
    "        ],\n",
    " 'ranking':[1,2],\n",
    " 'position':['RB','RB']\n",
    "})\n",
    "df"
   ]
  },
  {
   "cell_type": "code",
   "execution_count": 118,
   "id": "08a5fc4f",
   "metadata": {},
   "outputs": [],
   "source": [
    "def add_player(df):\n",
    "#     for i in df:\n",
    "    ranking = input(f'Is ranking of next player {int(df.ranking[-1:].values)+1}?\\n(y)/n ')\n",
    "    if ranking != '':\n",
    "        print(f'The last input player was:\\n {df[-1:]}\\n\\n')\n",
    "        df = df\n",
    "        return df\n",
    "    else:\n",
    "        df = df\n",
    "        name = input('Name of Player? : ')\n",
    "        position = input('Player\\'s Position? : ')\n",
    "        \n",
    "        df.loc[len(df.index)] = [name, int(df.ranking[-1:].values)+1, position]\n",
    "        \n",
    "    keep_on = input('Whould you like to continue? (y)/n : ')\n",
    "    if (keep_on != '') & (keep_on.lower() != 'y'):\n",
    "        print('Looks like you\\'re done for now!')\n",
    "        \n",
    "        return df\n",
    "    else:\n",
    "        df = df\n",
    "        add_player(df)\n",
    "\n",
    "        "
   ]
  },
  {
   "cell_type": "code",
   "execution_count": 78,
   "id": "96d1d5aa",
   "metadata": {},
   "outputs": [
    {
     "data": {
      "text/plain": [
       "3"
      ]
     },
     "execution_count": 78,
     "metadata": {},
     "output_type": "execute_result"
    }
   ],
   "source": [
    "int(df.ranking[-1:].values)"
   ]
  },
  {
   "cell_type": "code",
   "execution_count": 119,
   "id": "404c1b5f",
   "metadata": {},
   "outputs": [
    {
     "name": "stdout",
     "output_type": "stream",
     "text": [
      "Is ranking of next player 18?\n",
      "(y)/n \n",
      "Name of Player? : Davante Adams\n",
      "Player's Position? : WR\n",
      "Whould you like to continue? (y)/n : \n",
      "Is ranking of next player 19?\n",
      "(y)/n Deebo Samuel\n",
      "The last input player was:\n",
      "              name  ranking position\n",
      "17  Davante Adams       18       WR\n",
      "\n",
      "\n"
     ]
    }
   ],
   "source": [
    "df1 = add_player(df)"
   ]
  },
  {
   "cell_type": "code",
   "execution_count": 111,
   "id": "1f43c7e3",
   "metadata": {},
   "outputs": [],
   "source": [
    "df14 = df1"
   ]
  },
  {
   "cell_type": "code",
   "execution_count": 120,
   "id": "ff8f0727",
   "metadata": {},
   "outputs": [
    {
     "data": {
      "text/plain": [
       "NoneType"
      ]
     },
     "execution_count": 120,
     "metadata": {},
     "output_type": "execute_result"
    }
   ],
   "source": [
    "type(df1)"
   ]
  },
  {
   "cell_type": "code",
   "execution_count": 121,
   "id": "b626bdc1",
   "metadata": {},
   "outputs": [
    {
     "data": {
      "text/html": [
       "<div>\n",
       "<style scoped>\n",
       "    .dataframe tbody tr th:only-of-type {\n",
       "        vertical-align: middle;\n",
       "    }\n",
       "\n",
       "    .dataframe tbody tr th {\n",
       "        vertical-align: top;\n",
       "    }\n",
       "\n",
       "    .dataframe thead th {\n",
       "        text-align: right;\n",
       "    }\n",
       "</style>\n",
       "<table border=\"1\" class=\"dataframe\">\n",
       "  <thead>\n",
       "    <tr style=\"text-align: right;\">\n",
       "      <th></th>\n",
       "      <th>name</th>\n",
       "      <th>ranking</th>\n",
       "      <th>position</th>\n",
       "    </tr>\n",
       "  </thead>\n",
       "  <tbody>\n",
       "    <tr>\n",
       "      <th>0</th>\n",
       "      <td>Jonathan Taylor</td>\n",
       "      <td>1</td>\n",
       "      <td>RB</td>\n",
       "    </tr>\n",
       "    <tr>\n",
       "      <th>1</th>\n",
       "      <td>Christian McCaffrey</td>\n",
       "      <td>2</td>\n",
       "      <td>RB</td>\n",
       "    </tr>\n",
       "    <tr>\n",
       "      <th>2</th>\n",
       "      <td>Derrick Henry</td>\n",
       "      <td>3</td>\n",
       "      <td>RB</td>\n",
       "    </tr>\n",
       "    <tr>\n",
       "      <th>3</th>\n",
       "      <td>Dalvin Cook</td>\n",
       "      <td>4</td>\n",
       "      <td>RB</td>\n",
       "    </tr>\n",
       "    <tr>\n",
       "      <th>4</th>\n",
       "      <td>Austin Ekeler</td>\n",
       "      <td>5</td>\n",
       "      <td>RB</td>\n",
       "    </tr>\n",
       "    <tr>\n",
       "      <th>5</th>\n",
       "      <td>Joe Mixin</td>\n",
       "      <td>6</td>\n",
       "      <td>RB</td>\n",
       "    </tr>\n",
       "    <tr>\n",
       "      <th>6</th>\n",
       "      <td>Najee Harris</td>\n",
       "      <td>7</td>\n",
       "      <td>RB</td>\n",
       "    </tr>\n",
       "    <tr>\n",
       "      <th>7</th>\n",
       "      <td>Justin Jefferson</td>\n",
       "      <td>8</td>\n",
       "      <td>WR</td>\n",
       "    </tr>\n",
       "    <tr>\n",
       "      <th>8</th>\n",
       "      <td>Cooper Kupp</td>\n",
       "      <td>9</td>\n",
       "      <td>WR</td>\n",
       "    </tr>\n",
       "    <tr>\n",
       "      <th>9</th>\n",
       "      <td>Nick Chubb</td>\n",
       "      <td>10</td>\n",
       "      <td>RB</td>\n",
       "    </tr>\n",
       "    <tr>\n",
       "      <th>10</th>\n",
       "      <td>Ja\\'Marr Chase</td>\n",
       "      <td>11</td>\n",
       "      <td>WR</td>\n",
       "    </tr>\n",
       "    <tr>\n",
       "      <th>11</th>\n",
       "      <td>Alvin Kamara</td>\n",
       "      <td>12</td>\n",
       "      <td>RB</td>\n",
       "    </tr>\n",
       "    <tr>\n",
       "      <th>12</th>\n",
       "      <td>Mark Andrews</td>\n",
       "      <td>13</td>\n",
       "      <td>TE</td>\n",
       "    </tr>\n",
       "    <tr>\n",
       "      <th>13</th>\n",
       "      <td>Saquon Barkley</td>\n",
       "      <td>14</td>\n",
       "      <td>RB</td>\n",
       "    </tr>\n",
       "    <tr>\n",
       "      <th>14</th>\n",
       "      <td>D'Andre Swift</td>\n",
       "      <td>15</td>\n",
       "      <td>RB</td>\n",
       "    </tr>\n",
       "    <tr>\n",
       "      <th>15</th>\n",
       "      <td>Travis Kelce</td>\n",
       "      <td>16</td>\n",
       "      <td>TE</td>\n",
       "    </tr>\n",
       "    <tr>\n",
       "      <th>16</th>\n",
       "      <td>Stefon Diggs</td>\n",
       "      <td>17</td>\n",
       "      <td>WR</td>\n",
       "    </tr>\n",
       "    <tr>\n",
       "      <th>17</th>\n",
       "      <td>Davante Adams</td>\n",
       "      <td>18</td>\n",
       "      <td>WR</td>\n",
       "    </tr>\n",
       "  </tbody>\n",
       "</table>\n",
       "</div>"
      ],
      "text/plain": [
       "                   name  ranking position\n",
       "0       Jonathan Taylor        1       RB\n",
       "1   Christian McCaffrey        2       RB\n",
       "2         Derrick Henry        3       RB\n",
       "3           Dalvin Cook        4       RB\n",
       "4         Austin Ekeler        5       RB\n",
       "5             Joe Mixin        6       RB\n",
       "6          Najee Harris        7       RB\n",
       "7      Justin Jefferson        8       WR\n",
       "8           Cooper Kupp        9       WR\n",
       "9            Nick Chubb       10       RB\n",
       "10       Ja\\'Marr Chase       11       WR\n",
       "11         Alvin Kamara       12       RB\n",
       "12         Mark Andrews       13       TE\n",
       "13       Saquon Barkley       14       RB\n",
       "14        D'Andre Swift       15       RB\n",
       "15         Travis Kelce       16       TE\n",
       "16         Stefon Diggs       17       WR\n",
       "17        Davante Adams       18       WR"
      ]
     },
     "execution_count": 121,
     "metadata": {},
     "output_type": "execute_result"
    }
   ],
   "source": [
    "df"
   ]
  }
 ],
 "metadata": {
  "kernelspec": {
   "display_name": "Python 3 (ipykernel)",
   "language": "python",
   "name": "python3"
  },
  "language_info": {
   "codemirror_mode": {
    "name": "ipython",
    "version": 3
   },
   "file_extension": ".py",
   "mimetype": "text/x-python",
   "name": "python",
   "nbconvert_exporter": "python",
   "pygments_lexer": "ipython3",
   "version": "3.9.12"
  }
 },
 "nbformat": 4,
 "nbformat_minor": 5
}
